{
 "cells": [
  {
   "cell_type": "markdown",
   "metadata": {},
   "source": [
    "# Homework №1"
   ]
  },
  {
   "cell_type": "markdown",
   "metadata": {},
   "source": [
    "### <center>Group project name: *{Put name here}*</center>"
   ]
  },
  {
   "cell_type": "markdown",
   "metadata": {},
   "source": [
    "### NB! It is important to send only one work from group (done by group leader)"
   ]
  },
  {
   "cell_type": "markdown",
   "metadata": {},
   "source": [
    "# Description"
   ]
  },
  {
   "cell_type": "markdown",
   "metadata": {},
   "source": [
    "1. Those how are making projects on artilces need to analyze both co-authorship and citation graphs\n",
    "2. Provide analysis for graphs supposed them to be directed and weighted (where it is applicable)\n",
    "3. Make all your analysis and visualization work as buit-into your web-service\n",
    "4. It's preferable to use Gephi, GraphViz or D3.JS on visualization purpose"
   ]
  },
  {
   "cell_type": "markdown",
   "metadata": {},
   "source": [
    "### Guidelines:"
   ]
  },
  {
   "cell_type": "markdown",
   "metadata": {},
   "source": [
    "1. Make graph drawing (applying possibility of filtering as it was described in projects) using at least **3 different types of layouts** (different modifications of spring layouts are to be counted as one)\n",
    "\n",
    "2. Print **key graph metrics** (such as density, diameter etc.)\n",
    "\n",
    "3. Output some **interesting facts** from network (e.g. the most central author, TOP-3 citated articles etc.)\n",
    "\n",
    "4. Suggest some kind of **community detection** (perhaps, based on idea of eigenvalues and eigenvectors) and visualize it (on demand)\n",
    "\n"
   ]
  },
  {
   "cell_type": "code",
   "execution_count": null,
   "metadata": {},
   "outputs": [],
   "source": []
  }
 ],
 "metadata": {
  "kernelspec": {
   "display_name": "Python 3",
   "language": "python",
   "name": "python3"
  },
  "language_info": {
   "codemirror_mode": {
    "name": "ipython",
    "version": 3
   },
   "file_extension": ".py",
   "mimetype": "text/x-python",
   "name": "python",
   "nbconvert_exporter": "python",
   "pygments_lexer": "ipython3",
   "version": "3.6.8"
  }
 },
 "nbformat": 4,
 "nbformat_minor": 1
}
